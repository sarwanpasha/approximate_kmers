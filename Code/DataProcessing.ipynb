{
 "cells": [
  {
   "cell_type": "code",
   "execution_count": 1,
   "id": "f6bfc9bb-9551-4f7a-9645-703b60229f67",
   "metadata": {},
   "outputs": [],
   "source": [
    "from Bio import SeqIO # some BioPython \n",
    "import numpy as np # linear algebra\n",
    "import pandas as pd # data processing, CSV file I/O (e.g. pd.read_csv)"
   ]
  },
  {
   "cell_type": "code",
   "execution_count": 10,
   "id": "70e52f87-cac5-4497-b70b-4ce2f37b4035",
   "metadata": {},
   "outputs": [],
   "source": [
    "from Bio import SeqIO\n",
    "import os, glob\n",
    "folder_path = 'C:/Users/pchourasia1/Desktop/Research/Variant Classification/Data Processing/ncbi-sra'\n",
    "fasta_paths = glob.glob(os.path.join(folder_path, '*.fasta'))\n",
    "\n",
    "seq = []\n",
    "for fasta_path in fasta_paths:\n",
    "    for seq_record in SeqIO.parse(fasta_path, \"fasta\"):\n",
    "        seq.append(seq_record.seq)"
   ]
  },
  {
   "cell_type": "code",
   "execution_count": 17,
   "id": "bf76677f-0abe-4b8f-9ac6-5ce3ade9f36b",
   "metadata": {},
   "outputs": [],
   "source": [
    "df = pd.read_csv('C:/Users/pchourasia1/Desktop/Research/Variant Classification/Data Processing/Variants_Attributes.csv')\n",
    "seq_name = df['Sequence name'].values\n",
    "attributes = df['Lineage'].values"
   ]
  },
  {
   "cell_type": "code",
   "execution_count": 18,
   "id": "efc47639-c8ad-4f7a-bb25-5110a51c2a6d",
   "metadata": {},
   "outputs": [
    {
     "name": "stdout",
     "output_type": "stream",
     "text": [
      "A\n",
      "A.1\n",
      "A.2\n",
      "A.27\n",
      "A.28\n",
      "A.4\n",
      "A.5\n",
      "AY.13\n",
      "AY.20\n",
      "AY.24\n",
      "AY.25\n",
      "AY.26\n",
      "AY.3\n",
      "AY.35\n",
      "AY.37\n",
      "B\n",
      "B.1\n",
      "B.1.1\n",
      "B.1.1.1\n",
      "B.1.1.10\n",
      "B.1.1.128\n",
      "B.1.1.161\n",
      "B.1.1.192\n",
      "B.1.1.203\n",
      "B.1.1.222\n",
      "B.1.1.25\n",
      "B.1.1.277\n",
      "B.1.1.28\n",
      "B.1.1.306\n",
      "B.1.1.326\n",
      "B.1.1.33\n",
      "B.1.1.348\n",
      "B.1.1.368\n",
      "B.1.1.37\n",
      "B.1.1.375\n",
      "B.1.1.400\n",
      "B.1.1.406\n",
      "B.1.1.420\n",
      "B.1.1.464\n",
      "B.1.1.519\n",
      "B.1.1.61\n",
      "B.1.1.63\n",
      "B.1.1.7\n",
      "B.1.110.3\n",
      "B.1.119\n",
      "B.1.128\n",
      "B.1.151\n",
      "B.1.157\n",
      "B.1.160\n",
      "B.1.160.14\n",
      "B.1.162\n",
      "B.1.177\n",
      "B.1.177.10\n",
      "B.1.177.3\n",
      "B.1.177.31\n",
      "B.1.177.32\n",
      "B.1.177.43\n",
      "B.1.177.53\n",
      "B.1.177.60\n",
      "B.1.177.69\n",
      "B.1.177.7\n",
      "B.1.177.76\n",
      "B.1.177.81\n",
      "B.1.182\n",
      "B.1.2\n",
      "B.1.205\n",
      "B.1.221\n",
      "B.1.234\n",
      "B.1.243\n",
      "B.1.258\n",
      "B.1.305\n",
      "B.1.314\n",
      "B.1.319\n",
      "B.1.320\n",
      "B.1.349\n",
      "B.1.351\n",
      "B.1.356\n",
      "B.1.360\n",
      "B.1.362\n",
      "B.1.369\n",
      "B.1.380\n",
      "B.1.408\n",
      "B.1.416\n",
      "B.1.416.1\n",
      "B.1.427\n",
      "B.1.429\n",
      "B.1.439\n",
      "B.1.453\n",
      "B.1.504\n",
      "B.1.525\n",
      "B.1.526\n",
      "B.1.542\n",
      "B.1.561\n",
      "B.1.575\n",
      "B.1.575.1\n",
      "B.1.582\n",
      "B.1.587\n",
      "B.1.595\n",
      "B.1.596\n",
      "B.1.600\n",
      "B.1.609\n",
      "B.1.617.2\n",
      "B.1.621\n",
      "B.1.621.1\n",
      "B.11\n",
      "B.13\n",
      "B.37\n",
      "B.4.4\n",
      "B.4.6\n",
      "B.6.3\n",
      "C.37\n",
      "C.4\n",
      "P.1\n",
      "P.2\n",
      "P.7\n"
     ]
    }
   ],
   "source": [
    "uniqueAttributes = np.unique(attributes)\n",
    "# for i in range(len(uniqueAttributes)):\n",
    "#   print(uniqueAttributes[i])\n",
    "\n",
    "len(uniqueAttributes)"
   ]
  },
  {
   "cell_type": "code",
   "execution_count": 36,
   "id": "70502f3c-17dc-4bec-b44f-fddd15a01fc5",
   "metadata": {},
   "outputs": [
    {
     "name": "stdout",
     "output_type": "stream",
     "text": [
      "B.1.1.7       168\n",
      "B.1.177       146\n",
      "B.1           143\n",
      "B.1.617.2      54\n",
      "A.2            45\n",
      "B.1.1          30\n",
      "B.1.2          27\n",
      "AY.25          19\n",
      "B              13\n",
      "B.1.356        12\n",
      "B.1.1.33       10\n",
      "B.1.177.32     10\n",
      "AY.3            9\n",
      "B.1.429         9\n",
      "B.1.182         8\n",
      "A.1             8\n",
      "C.37            8\n",
      "B.1.427         7\n",
      "A.5             7\n",
      "B.1.351         7\n",
      "B.1.1.348       7\n",
      "B.1.1.1         6\n",
      "A               6\n",
      "B.1.1.464       5\n",
      "B.1.621         5\n",
      "B.1.320         5\n",
      "B.1.243         5\n",
      "B.1.110.3       4\n",
      "B.1.177.53      4\n",
      "B.1.621.1       4\n",
      "B.1.1.192       3\n",
      "B.1.1.519       3\n",
      "B.1.369         3\n",
      "B.1.525         3\n",
      "B.1.1.326       3\n",
      "B.1.1.222       3\n",
      "B.1.177.10      3\n",
      "B.1.160         3\n",
      "AY.26           3\n",
      "B.1.416.1       2\n",
      "B.1.1.306       2\n",
      "B.1.177.43      2\n",
      "B.1.157         2\n",
      "B.1.314         2\n",
      "B.1.162         2\n",
      "B.1.1.63        2\n",
      "B.1.221         2\n",
      "A.28            2\n",
      "B.1.349         2\n",
      "B.1.177.69      2\n",
      "B.1.258         2\n",
      "AY.24           2\n",
      "B.1.575.1       2\n",
      "B.1.1.25        2\n",
      "B.1.561         2\n",
      "B.1.380         1\n",
      "B.1.1.420       1\n",
      "C.4             1\n",
      "B.1.453         1\n",
      "B.1.128         1\n",
      "dtype: int64\n"
     ]
    }
   ],
   "source": [
    "idx = pd.Index(attributes) # creates an index which allows counting the entries easily\n",
    "aa = idx.value_counts()\n",
    "print(aa[0:20])"
   ]
  },
  {
   "cell_type": "code",
   "execution_count": 37,
   "id": "9ce8c076-c345-4ee7-a08e-8c9e60340871",
   "metadata": {},
   "outputs": [
    {
     "data": {
      "text/plain": [
       "115"
      ]
     },
     "execution_count": 37,
     "metadata": {},
     "output_type": "execute_result"
    }
   ],
   "source": [
    "len(aa), len(seq), len(attributes)"
   ]
  },
  {
   "cell_type": "code",
   "execution_count": 23,
   "id": "c094cf0b-5909-4cde-ba11-27ec44775130",
   "metadata": {},
   "outputs": [
    {
     "name": "stderr",
     "output_type": "stream",
     "text": [
      "<ipython-input-23-2f78a95b4fb8>:5: VisibleDeprecationWarning: Creating an ndarray from ragged nested sequences (which is a list-or-tuple of lists-or-tuples-or ndarrays with different lengths or shapes) is deprecated. If you meant to do this, you must specify 'dtype=object' when creating the ndarray.\n",
      "  data = np.array(seq)\n"
     ]
    }
   ],
   "source": [
    "from numpy import asarray\n",
    "from numpy import save\n",
    "\n",
    "# define seq\n",
    "data = np.array(seq)\n",
    "# save to npy file\n",
    "save('/Variant Classification/Data Processing/sequences.npy', data)\n"
   ]
  },
  {
   "cell_type": "code",
   "execution_count": 24,
   "id": "984cb2ee-c023-40b5-92e3-b702338cc176",
   "metadata": {},
   "outputs": [],
   "source": [
    "from numpy import asarray\n",
    "from numpy import save\n",
    "# define att\n",
    "data = np.array(attributes)\n",
    "# # save to npy file\n",
    "save('/Variant Classification/Data Processing/attributes.npy', data)\n",
    "\n",
    "# define seq\n",
    "# data = np.array(unaligned_sequences_clean)\n",
    "# # save to npy file\n",
    "# save('/Users/pchourasia1/Desktop/Host_Classification/Data Processing/ALIGNED_sequences.npy', data)"
   ]
  },
  {
   "cell_type": "code",
   "execution_count": 25,
   "id": "fbcf8fed-08ea-49ff-8efe-27d4a5d6339a",
   "metadata": {},
   "outputs": [],
   "source": [
    "sequences = np.load('/Variant Classification/Data Processing/sequences.npy',allow_pickle=True)\n",
    "attributes = np.load('/Variant Classification/Data Processing/attributes.npy',allow_pickle=True)"
   ]
  },
  {
   "cell_type": "code",
   "execution_count": 26,
   "id": "1fcf6732-7c9f-427e-8fb4-2625b82fe699",
   "metadata": {},
   "outputs": [
    {
     "data": {
      "text/plain": [
       "(910, 910)"
      ]
     },
     "execution_count": 26,
     "metadata": {},
     "output_type": "execute_result"
    }
   ],
   "source": [
    "len(sequences), len(attributes)"
   ]
  },
  {
   "cell_type": "code",
   "execution_count": null,
   "id": "e389bda1-2f7f-4c14-9093-bed0fa908537",
   "metadata": {},
   "outputs": [],
   "source": []
  }
 ],
 "metadata": {
  "kernelspec": {
   "display_name": "Python 3",
   "language": "python",
   "name": "python3"
  },
  "language_info": {
   "codemirror_mode": {
    "name": "ipython",
    "version": 3
   },
   "file_extension": ".py",
   "mimetype": "text/x-python",
   "name": "python",
   "nbconvert_exporter": "python",
   "pygments_lexer": "ipython3",
   "version": "3.8.8"
  }
 },
 "nbformat": 4,
 "nbformat_minor": 5
}
