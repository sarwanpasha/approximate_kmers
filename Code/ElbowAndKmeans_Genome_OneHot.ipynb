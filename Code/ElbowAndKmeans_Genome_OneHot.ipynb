{
 "cells": [
  {
   "cell_type": "code",
   "execution_count": 1,
   "metadata": {},
   "outputs": [
    {
     "name": "stdout",
     "output_type": "stream",
     "text": [
      "done\n"
     ]
    }
   ],
   "source": [
    "import numpy as np # linear algebra\n",
    "import pandas as pd # data processing, CSV file I/O (e.g. pd.read_csv)\n",
    "from sklearn.decomposition import TruncatedSVD\n",
    "import random\n",
    "# import seaborn as sns\n",
    "import os.path as path\n",
    "import os\n",
    "# import matplotlib\n",
    "# import matplotlib.font_manager\n",
    "# import matplotlib.pyplot as plt # graphs plotting\n",
    "# import Bio\n",
    "from Bio import SeqIO # some BioPython that will come in handy\n",
    "#matplotlib inline\n",
    "\n",
    "from itertools import cycle\n",
    "\n",
    "from sklearn import svm, datasets\n",
    "from sklearn.metrics import roc_curve, auc\n",
    "from sklearn.model_selection import train_test_split\n",
    "from sklearn.preprocessing import label_binarize\n",
    "from sklearn.multiclass import OneVsRestClassifier\n",
    "from scipy import interp\n",
    "from sklearn.metrics import roc_auc_score\n",
    "\n",
    "\n",
    "# from matplotlib import rc\n",
    "# # for Arial typefont\n",
    "# matplotlib.rcParams['font.family'] = 'Arial'\n",
    "\n",
    "from sklearn.model_selection import train_test_split\n",
    "from sklearn.linear_model import Lasso, LogisticRegression\n",
    "from sklearn.feature_selection import SelectFromModel\n",
    "from sklearn.preprocessing import StandardScaler\n",
    "\n",
    "from sklearn.datasets import load_iris\n",
    "from sklearn.model_selection import train_test_split\n",
    "from sklearn.naive_bayes import GaussianNB\n",
    "from sklearn import metrics\n",
    "from sklearn import svm\n",
    "\n",
    "from sklearn.datasets import load_iris\n",
    "from sklearn.model_selection import train_test_split\n",
    "from sklearn.naive_bayes import GaussianNB\n",
    "from sklearn import metrics\n",
    "\n",
    "import pandas as pd\n",
    "import sklearn\n",
    "from sklearn import preprocessing\n",
    "from sklearn.model_selection import train_test_split \n",
    "from sklearn.preprocessing import StandardScaler  \n",
    "from sklearn.neural_network import MLPClassifier \n",
    "from sklearn.metrics import classification_report, confusion_matrix \n",
    "\n",
    "from sklearn.neighbors import KNeighborsClassifier\n",
    "\n",
    "from sklearn.linear_model import LogisticRegression\n",
    "from sklearn.metrics import classification_report, confusion_matrix\n",
    "\n",
    "from pandas import DataFrame\n",
    "\n",
    "from sklearn.model_selection import KFold \n",
    "from sklearn.model_selection import RepeatedKFold\n",
    "\n",
    "from sklearn.metrics import confusion_matrix\n",
    "\n",
    "from numpy import mean\n",
    "\n",
    "import seaborn as sns\n",
    "\n",
    "import itertools\n",
    "from itertools import product\n",
    "import timeit\n",
    "\n",
    "\n",
    "## for Palatino and other serif fonts use:\n",
    "# rc('font',**{'family':'serif','serif':['Palatino']})\n",
    "# matplotlib.rcParams['mathtext.fontset'] = 'cm'\n",
    "\n",
    "## for LaTeX typefont\n",
    "# matplotlib.rcParams['mathtext.fontset'] = 'stix'\n",
    "# matplotlib.rcParams['font.family'] = 'STIXGeneral'\n",
    "\n",
    "## for another LaTeX typefont\n",
    "# rc('font',**{'family':'sans-serif','sans-serif':['Helvetica']})\n",
    "\n",
    "# rc('text', usetex = True)\n",
    "\n",
    "print(\"done\")"
   ]
  },
  {
   "cell_type": "code",
   "execution_count": 2,
   "metadata": {},
   "outputs": [],
   "source": [
    "sequences2 = np.load('/Variant Classification/Data Processing/sequences.npy',allow_pickle=True)\n",
    "attributes = np.load('/Variant Classification/Data Processing/attributes.npy',allow_pickle=True)"
   ]
  },
  {
   "cell_type": "code",
   "execution_count": 3,
   "metadata": {},
   "outputs": [],
   "source": [
    "variants_name = attributes[:]"
   ]
  },
  {
   "cell_type": "code",
   "execution_count": 4,
   "metadata": {},
   "outputs": [
    {
     "data": {
      "text/plain": [
       "(910, 910)"
      ]
     },
     "execution_count": 4,
     "metadata": {},
     "output_type": "execute_result"
    }
   ],
   "source": [
    "len(variants_name), len(sequences2)"
   ]
  },
  {
   "cell_type": "code",
   "execution_count": 5,
   "metadata": {},
   "outputs": [],
   "source": [
    "cc = []\n",
    "for i in range(len(sequences2)):\n",
    "#     aa = encoded_sequences[i]\n",
    "    cc.append(len(sequences2[i]))"
   ]
  },
  {
   "cell_type": "code",
   "execution_count": 6,
   "metadata": {},
   "outputs": [
    {
     "data": {
      "text/plain": [
       "(array([29719, 29739, 29745, 29792, 29798, 29807, 29811, 29815, 29817,\n",
       "        29819, 29829, 29830, 29831, 29833, 29834, 29837, 29838, 29839,\n",
       "        29840, 29842, 29843, 29846, 29847, 29848, 29849, 29851, 29855,\n",
       "        29856, 29857, 29858, 29859, 29860, 29861, 29862, 29864, 29865,\n",
       "        29866, 29867, 29869, 29870, 29871, 29872, 29873, 29875, 29877,\n",
       "        29879, 29880, 29881, 29882, 29883, 29884, 29885, 29886, 29887,\n",
       "        29888, 29889, 29890, 29891, 29892, 29893, 29894, 29895, 29896,\n",
       "        29897, 29898, 29899, 29900, 29901, 29902, 29903, 29904, 29905,\n",
       "        29906, 29908, 29909, 29912]),\n",
       " 29719,\n",
       " 29912)"
      ]
     },
     "execution_count": 6,
     "metadata": {},
     "output_type": "execute_result"
    }
   ],
   "source": [
    "np.unique(cc), min(cc), max(cc)"
   ]
  },
  {
   "cell_type": "code",
   "execution_count": 7,
   "metadata": {},
   "outputs": [],
   "source": [
    "seq3 = []\n",
    "for i in range(len(sequences2)):\n",
    "    tmp = sequences2[i]\n",
    "    seq3.append(tmp[0:29719])"
   ]
  },
  {
   "cell_type": "code",
   "execution_count": 8,
   "metadata": {},
   "outputs": [],
   "source": [
    "cc = []\n",
    "for i in range(len(seq3)):\n",
    "#     aa = encoded_sequences[i]\n",
    "    cc.append(len(seq3[i]))"
   ]
  },
  {
   "cell_type": "code",
   "execution_count": 9,
   "metadata": {},
   "outputs": [
    {
     "data": {
      "text/plain": [
       "(array([29719]), 29719, 29719)"
      ]
     },
     "execution_count": 9,
     "metadata": {},
     "output_type": "execute_result"
    }
   ],
   "source": [
    "np.unique(cc), min(cc), max(cc)"
   ]
  },
  {
   "cell_type": "code",
   "execution_count": 10,
   "metadata": {},
   "outputs": [
    {
     "name": "stdout",
     "output_type": "stream",
     "text": [
      "done\n"
     ]
    }
   ],
   "source": [
    "# We create a class fasta_sequence so that we would be able to use the sequence data easily \n",
    "\n",
    "class fasta_sequence:\n",
    "    def __init__(self, sequence, type_of_encoding = \"onehot\"):\n",
    "        \n",
    "        # we read the input data\n",
    "        \n",
    "        self.sequence = sequence\n",
    "\n",
    "\n",
    "        def encoding(sequence, type_of_encoding):\n",
    "\n",
    "            # define universe of possible input values\n",
    "#             alphabet = 'ABCDEFGHIJKLMNPQRSTUVWXYZ-'\n",
    "            alphabet = 'ABCDEFGHIJKLMNPQRSTVWXYZ-'\n",
    "            # define a mapping of chars to integers\n",
    "            char_to_int = dict((c, i) for i, c in enumerate(alphabet))\n",
    "\n",
    "\n",
    "            # integer encoding\n",
    "            integer_encoded = [char_to_int[char] for char in sequence]\n",
    "\n",
    "            # one-hot encoding\n",
    "            onehot_encoded = list()\n",
    "            for value in integer_encoded:\n",
    "                letter = [0 for _ in range(len(alphabet)-1)]\n",
    "                if value != len(alphabet)-1:\n",
    "                    letter[value] = 1\n",
    "                onehot_encoded.append(letter)\n",
    "            flat_list = [item for sublist in onehot_encoded for item in sublist]\n",
    "\n",
    "            if type_of_encoding == \"onehot\":\n",
    "                return flat_list\n",
    "            else:\n",
    "                return integer_encoded\n",
    "            \n",
    "        #  we use the encoding function to create a new attribute for the sequence -- its encoding        \n",
    "        self.encoded = encoding(sequence, type_of_encoding)\n",
    "        \n",
    "print(\"done\")"
   ]
  },
  {
   "cell_type": "code",
   "execution_count": 11,
   "metadata": {},
   "outputs": [
    {
     "data": {
      "text/plain": [
       "713256"
      ]
     },
     "execution_count": 11,
     "metadata": {},
     "output_type": "execute_result"
    }
   ],
   "source": [
    "alphabet = 'ABCDEFGHIJKLMNPQRSTVWXYZ'\n",
    "len(alphabet)*29719"
   ]
  },
  {
   "cell_type": "code",
   "execution_count": 12,
   "metadata": {},
   "outputs": [
    {
     "name": "stdout",
     "output_type": "stream",
     "text": [
      "One Hot Encoding time :  270.76104140000007\n",
      "done\n"
     ]
    }
   ],
   "source": [
    "# we create a list of sequences as objects of the class fasta_sequence\n",
    "# all sequences are encoded with one-hot encoding (it is the default option of the constructor of the class)\n",
    "prot_seq = seq3[:]\n",
    "sequences = []\n",
    "start = timeit.default_timer()\n",
    "for i in range(0, len(prot_seq)):\n",
    "    current_sequence = fasta_sequence(prot_seq[i])\n",
    "    sequences.append(current_sequence)\n",
    "\n",
    "stop = timeit.default_timer()\n",
    "print(\"One Hot Encoding time : \", stop - start) \n",
    "\n",
    "print(\"done\")"
   ]
  },
  {
   "cell_type": "code",
   "execution_count": 13,
   "metadata": {},
   "outputs": [],
   "source": [
    "# for a list of sequences, returns a list of encoded sequences and a list of targets\n",
    "\n",
    "def EncodeAndTarget(list_of_sequences):\n",
    "    # encoding the sequences\n",
    "    list_of_encoded_sequences = [entry.encoded for entry in list_of_sequences]\n",
    "    return list_of_encoded_sequences   \n",
    "\n"
   ]
  },
  {
   "cell_type": "code",
   "execution_count": 14,
   "metadata": {},
   "outputs": [
    {
     "name": "stdout",
     "output_type": "stream",
     "text": [
      "Merge Seq an Target :  0.00021150000009129144\n"
     ]
    }
   ],
   "source": [
    "start = timeit.default_timer()\n",
    "\n",
    "encoded_sequences = EncodeAndTarget(sequences)\n",
    "stop = timeit.default_timer()\n",
    "print(\"Merge Seq an Target : \", stop - start) "
   ]
  },
  {
   "cell_type": "code",
   "execution_count": 15,
   "metadata": {},
   "outputs": [
    {
     "data": {
      "text/plain": [
       "(713256, 910, list, list)"
      ]
     },
     "execution_count": 15,
     "metadata": {},
     "output_type": "execute_result"
    }
   ],
   "source": [
    "len(encoded_sequences[0]),len(encoded_sequences),type(encoded_sequences),type(encoded_sequences[0])"
   ]
  },
  {
   "cell_type": "code",
   "execution_count": 16,
   "metadata": {},
   "outputs": [],
   "source": [
    "cc = []\n",
    "for i in range(len(encoded_sequences)):\n",
    "    aa = encoded_sequences[i]\n",
    "    cc.append(sum(aa))"
   ]
  },
  {
   "cell_type": "code",
   "execution_count": 17,
   "metadata": {},
   "outputs": [
    {
     "data": {
      "text/plain": [
       "array([29719])"
      ]
     },
     "execution_count": 17,
     "metadata": {},
     "output_type": "execute_result"
    }
   ],
   "source": [
    "np.unique(cc)"
   ]
  },
  {
   "cell_type": "code",
   "execution_count": 18,
   "metadata": {},
   "outputs": [
    {
     "data": {
      "text/plain": [
       "False"
      ]
     },
     "execution_count": 18,
     "metadata": {},
     "output_type": "execute_result"
    }
   ],
   "source": [
    "pd.DataFrame(aa).isnull().values.any()"
   ]
  },
  {
   "cell_type": "code",
   "execution_count": 19,
   "metadata": {},
   "outputs": [
    {
     "data": {
      "text/plain": [
       "115"
      ]
     },
     "execution_count": 19,
     "metadata": {},
     "output_type": "execute_result"
    }
   ],
   "source": [
    "len(np.unique(attributes))"
   ]
  },
  {
   "cell_type": "code",
   "execution_count": 20,
   "metadata": {},
   "outputs": [
    {
     "data": {
      "text/plain": [
       "115"
      ]
     },
     "execution_count": 20,
     "metadata": {},
     "output_type": "execute_result"
    }
   ],
   "source": [
    "unique_hst = list(np.unique(variants_name))\n",
    "len(unique_hst)"
   ]
  },
  {
   "cell_type": "code",
   "execution_count": 21,
   "metadata": {},
   "outputs": [
    {
     "name": "stdout",
     "output_type": "stream",
     "text": [
      "Attribute data preprocessing Done\n"
     ]
    }
   ],
   "source": [
    "\n",
    "int_hosts = []\n",
    "for ind_unique in range(len(variants_name)):\n",
    "    variant_tmp = variants_name[ind_unique]\n",
    "    ind_tmp = unique_hst.index(variant_tmp)\n",
    "    int_hosts.append(ind_tmp)\n",
    "    \n",
    "print(\"Attribute data preprocessing Done\")"
   ]
  },
  {
   "cell_type": "code",
   "execution_count": 22,
   "metadata": {},
   "outputs": [],
   "source": [
    "encoded_seq_reduced = []\n",
    "int_variants_reduced = []\n",
    "int_variants_name_reduced = []\n",
    "\n",
    "for i in range (len(encoded_sequences)):\n",
    "    temp = variants_name[i]\n",
    "    if(temp == 'B.1.1.7' or temp == 'A.2' or temp == 'B.1.617.2' or temp == 'B.1' or temp =='B.1.177'):\n",
    "        encoded_seq_reduced.append(encoded_sequences[i])\n",
    "        int_variants_reduced.append(int_hosts[i])\n",
    "        int_variants_name_reduced.append(variants_name[i])"
   ]
  },
  {
   "cell_type": "code",
   "execution_count": 23,
   "metadata": {},
   "outputs": [],
   "source": [
    "X = np.array(encoded_seq_reduced)\n",
    "y = np.array(int_variants_reduced)"
   ]
  },
  {
   "cell_type": "code",
   "execution_count": 24,
   "metadata": {},
   "outputs": [
    {
     "data": {
      "text/plain": [
       "((556, 713256), 556, 713256)"
      ]
     },
     "execution_count": 24,
     "metadata": {},
     "output_type": "execute_result"
    }
   ],
   "source": [
    "X.shape, len(y), len(X[0])"
   ]
  },
  {
   "cell_type": "code",
   "execution_count": 26,
   "metadata": {},
   "outputs": [
    {
     "data": {
      "text/plain": [
       "<AxesSubplot:title={'center':'Distortion Score Elbow for KMeans Clustering'}, xlabel='k', ylabel='distortion score'>"
      ]
     },
     "execution_count": 26,
     "metadata": {},
     "output_type": "execute_result"
    },
    {
     "data": {
      "image/png": "[encoded data removed]",
      "text/plain": [
       "<Figure size 576x396 with 2 Axes>"
      ]
     },
     "metadata": {},
     "output_type": "display_data"
    }
   ],
   "source": [
    "from sklearn.cluster import KMeans\n",
    "from sklearn.datasets import make_blobs\n",
    "from yellowbrick.cluster import KElbowVisualizer\n",
    "\n",
    "\n",
    "# Instantiate the clustering model and visualizer\n",
    "model = KMeans()\n",
    "visualizer = KElbowVisualizer(model, k=(2,15))\n",
    "\n",
    "visualizer.fit(X)        # Fit the data to the visualizer\n",
    "# visualizer.show()        # Finalize and render the figure\n",
    "visualizer.show(outpath=\"/Variant Classification/kMeans/kelbow_minibatchkmeans.pdf\")"
   ]
  },
  {
   "cell_type": "code",
   "execution_count": null,
   "metadata": {},
   "outputs": [],
   "source": [
    "import pandas as pd\n",
    "import numpy as np\n",
    "import time\n",
    "from sklearn.svm import SVC\n",
    "#import RandomBinningFeatures\n",
    "from sklearn.kernel_approximation import RBFSampler\n",
    "from sklearn.linear_model import RidgeClassifier\n",
    "from sklearn import metrics\n",
    "import scipy\n",
    "import matplotlib.pyplot as plt \n",
    "# import cs\n",
    "import numpy as np # linear algebra\n",
    "import pandas as pd # data processing, CSV file I/O (e.g. pd.read_csv)\n",
    "from sklearn.decomposition import TruncatedSVD\n",
    "import random\n",
    "import os.path as path\n",
    "import os\n",
    "from itertools import cycle\n",
    "from sklearn import svm, datasets\n",
    "from sklearn.metrics import roc_curve, auc\n",
    "from sklearn.model_selection import train_test_split\n",
    "from sklearn.preprocessing import label_binarize\n",
    "from sklearn.multiclass import OneVsRestClassifier\n",
    "from scipy import interp\n",
    "from sklearn.metrics import roc_auc_score\n",
    "\n",
    "\n",
    "# from matplotlib import rc\n",
    "# # for Arial typefont\n",
    "# matplotlib.rcParams['font.family'] = 'Arial'\n",
    "\n",
    "from sklearn.model_selection import train_test_split\n",
    "from sklearn.linear_model import Lasso, LogisticRegression\n",
    "from sklearn.feature_selection import SelectFromModel\n",
    "from sklearn.preprocessing import StandardScaler\n",
    "\n",
    "from sklearn.datasets import load_iris\n",
    "from sklearn.model_selection import train_test_split\n",
    "from sklearn.naive_bayes import GaussianNB\n",
    "from sklearn import metrics\n",
    "from sklearn import svm\n",
    "\n",
    "from sklearn.datasets import load_iris\n",
    "from sklearn.model_selection import train_test_split\n",
    "from sklearn.naive_bayes import GaussianNB\n",
    "from sklearn import metrics\n",
    "\n",
    "import pandas as pd\n",
    "import sklearn\n",
    "from sklearn import preprocessing\n",
    "from sklearn.model_selection import train_test_split \n",
    "from sklearn.preprocessing import StandardScaler  \n",
    "from sklearn.neural_network import MLPClassifier \n",
    "from sklearn.metrics import classification_report, confusion_matrix \n",
    "\n",
    "from sklearn.neighbors import KNeighborsClassifier\n",
    "\n",
    "from sklearn.linear_model import LogisticRegression\n",
    "from sklearn.metrics import classification_report, confusion_matrix\n",
    "\n",
    "from pandas import DataFrame\n",
    "\n",
    "from sklearn.model_selection import KFold \n",
    "from sklearn.model_selection import RepeatedKFold\n",
    "\n",
    "from sklearn.metrics import confusion_matrix\n",
    "\n",
    "from numpy import mean\n",
    "#import seaborn as sns\n",
    "\n",
    "import numpy\n",
    "import matplotlib.pyplot as plt\n",
    "import pandas\n",
    "import math\n",
    "# from keras.models import Sequential\n",
    "# from keras.layers import Dense\n",
    "# from keras.layers import LSTM\n",
    "from sklearn.preprocessing import MinMaxScaler\n",
    "from sklearn.metrics import mean_squared_error\n",
    "import numpy\n",
    "from sklearn.model_selection import cross_val_score\n",
    "from sklearn.model_selection import KFold\n",
    "from sklearn.preprocessing import LabelEncoder\n",
    "from sklearn.pipeline import Pipeline\n",
    "#for clustering, the input data is in variable X_features_test\n",
    "from sklearn.cluster import KMeans\n",
    "\n",
    "\n",
    "print(\"Packages Loaded!!!\")"
   ]
  },
  {
   "cell_type": "code",
   "execution_count": null,
   "metadata": {},
   "outputs": [],
   "source": [
    "\n",
    "clust_num = 5\n",
    "print(\"Number of Clusters = \",clust_num)\n",
    "\n",
    "start_time = time.time()\n",
    "kmeans = KMeans(n_clusters=clust_num, random_state=0).fit(X)\n",
    "kmean_clust_labels = kmeans.labels_\n",
    "\n",
    "np.save('/Variant Classification/kMeans/new_Labels_kmeans.npy', kmean_clust_labels)\n",
    "\n",
    "\n",
    "end_time = time.time() - start_time\n",
    "print(\"Clustering Time in seconds =>\",end_time)"
   ]
  }
 ],
 "metadata": {
  "kernelspec": {
   "display_name": "Python 3",
   "language": "python",
   "name": "python3"
  },
  "language_info": {
   "codemirror_mode": {
    "name": "ipython",
    "version": 3
   },
   "file_extension": ".py",
   "mimetype": "text/x-python",
   "name": "python",
   "nbconvert_exporter": "python",
   "pygments_lexer": "ipython3",
   "version": "3.8.8"
  }
 },
 "nbformat": 4,
 "nbformat_minor": 4
}
